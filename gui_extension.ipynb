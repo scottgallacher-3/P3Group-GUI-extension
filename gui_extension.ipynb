{
 "cells": [
  {
   "cell_type": "code",
   "execution_count": 3,
   "id": "ccb28f3c",
   "metadata": {},
   "outputs": [],
   "source": [
    "import numpy as np\n",
    "import matplotlib.pyplot as plt\n",
    "from matplotlib.path import Path  # - for testing points within boundaries\n",
    "from tkinter import *  # - saves having to write extra \"tk\" every time throughout definition. (e.g. \"tk.Button\" -> \"Button\")\n",
    "from tkinter import ttk\n",
    "from PIL import Image  # - take image of canvas"
   ]
  },
  {
   "cell_type": "code",
   "execution_count": 573,
   "id": "1b3edd5d",
   "metadata": {},
   "outputs": [],
   "source": [
    "class GUI():\n",
    "    \n",
    "    \n",
    "    def __init__(self,window, canvas_width=500, canvas_height=500):\n",
    "        self.canvas_width, self.canvas_height = canvas_width, canvas_height\n",
    "        \n",
    "        self.window = window\n",
    "        window.geometry(\"{0}x{1}\".format(self.canvas_width + 700, self.canvas_height + 200))\n",
    "        window.title(\"Electric Field Solver - Input and Viewing Screen\")        \n",
    "        \n",
    "        #main canvas to draw in/on\n",
    "#         self.canvas_height, self.canvas_width = 500,500\n",
    "        self.canvas_frame = Frame(self.window)\n",
    "        self.canvas_frame.grid(row=1, column=0)\n",
    "        self.maincanvas = Canvas(self.canvas_frame, height=self.canvas_height, width=self.canvas_width, bg=\"white\", cursor=\"tcross\")\n",
    "        self.maincanvas.grid(row=0, column=0, padx=(15,5),pady=15, rowspan=7)\n",
    "        \n",
    "        #store centre of canvas as x,y\n",
    "        self.centre = self.canvas_width//2, self.canvas_height//2\n",
    "        \n",
    "        #checkbox to toggle axes\n",
    "        self.axes_toggle = IntVar()\n",
    "        self.axes_toggle.set(1)\n",
    "        self.axes_box = Checkbutton(self.canvas_frame, variable=self.axes_toggle, text=\"Toggle Axes\", command=self.draw_axes)\n",
    "        self.axes_box.grid(row=7, column=0)\n",
    "        \n",
    "        #add mini preview canvas\n",
    "        self.prev_scale = 0.3\n",
    "        self.prev_height = self.prev_scale * self.canvas_height\n",
    "        self.prev_width = self.prev_scale * self.canvas_width\n",
    "        self.mini_canvas = Canvas(self.canvas_frame, height=self.prev_height, width=self.prev_width, bg=\"lightgray\")\n",
    "        \n",
    "#         lineopts = {\"dash\":(2,2), \"width\":1}\n",
    "        self.mini_canvas.create_line(0, self.prev_height//2, self.prev_width, self.prev_height//2, dash=(2,2), width=0.5)\n",
    "        self.mini_canvas.create_line(self.prev_width//2, 0, self.prev_width//2, self.prev_height, dash=(2,2), width=0.5)\n",
    "        self.mini_canvas.grid(row=6, column=1, padx=2, pady=(2,15), sticky=\"SW\", columnspan=7)\n",
    "        \n",
    "        #buttons and other inputs\n",
    "        self.buttons_frame = Frame(self.window, height=500, width=300)\n",
    "        self.buttons_frame.grid(row=1, column=1, padx=(15,0), sticky=\"NEWS\", columnspan=8, rowspan=5)\n",
    "#         self.buttons_frame.columnconfigure(0, weight=1)\n",
    "        \n",
    "        self.quitbutton = Button(self.buttons_frame, text=\"Quit\", width=8, height=2, command=window.destroy)\n",
    "        self.quitbutton.grid(row=0, column=10, sticky=\"NE\", padx=30, pady=(15,0), columnspan=3, rowspan=1)\n",
    "        \n",
    "        #button to clear canvas\n",
    "        self.clearbutton = Button(self.canvas_frame, text=\"Clear Canvas\", width=12, height=2, command=self.clear_canvas)\n",
    "        self.clearbutton.grid(row=0, column=1, sticky=\"WE\", padx=(10,5), pady=0, columnspan=3)\n",
    "        \n",
    "        #button to begin processing of input canvas (outputting arrays)\n",
    "        self.processbutton = Button(self.window, text=\"Process Canvas\", width=30, height=5, command=self.output_arrays)\n",
    "        self.processbutton.grid(row=1, column=1, sticky=\"SWE\", padx=(15,0), pady=105)\n",
    "        \n",
    "        #additional button ??\n",
    "        self.process2 = Button(self.window, text=\"Additional Processing?\", width=30, height=2)\n",
    "        self.process2.grid(row=1, column=1, sticky=\"SWE\", padx=(15,0), pady=45)\n",
    "        \n",
    "        #separator line on window\n",
    "        self.frame_separator = ttk.Separator(self.buttons_frame, orient=\"horizontal\")\n",
    "        self.frame_separator.grid(row=10, column=0, pady=(200,5), sticky=\"EW\", columnspan=10)\n",
    "        \n",
    "        \n",
    "        self.frame_separator_vert = ttk.Separator(self.canvas_frame, orient=\"vertical\")\n",
    "        self.frame_separator_vert.grid(row=0, column=20, padx=(5,50), pady=(25,0), sticky=\"NES\", rowspan=7)\n",
    "        \n",
    "        #scroll-wheels selection for Red, Green, Blue colour values\n",
    "        #text box for potential value setting\n",
    "        \n",
    "        #add validation functions for rgb entries\n",
    "        #spinbox will choose from given values only\n",
    "        #however, users can type any text - filter out non-integer values; and truncate anything outside [0,255] range\n",
    "        self.redbox = Spinbox(self.buttons_frame, values=[_ for _ in range(0,255+1)], repeatinterval=10, width=5, command=self.draw_preview)\n",
    "        self.greenbox = Spinbox(self.buttons_frame, values=[_ for _ in range(0,255+1)], repeatinterval=10, width=5, command=self.draw_preview)\n",
    "        self.bluebox = Spinbox(self.buttons_frame, values=[_ for _ in range(0,255+1)], repeatinterval=10, width=5, command=self.draw_preview)\n",
    "        \n",
    "        #labels and placement\n",
    "        self.redlabel = Label(self.buttons_frame, text=\"Red\")\n",
    "        self.greenlabel = Label(self.buttons_frame, text=\"Green\")\n",
    "        self.bluelabel = Label(self.buttons_frame, text=\"Blue\")\n",
    "        self.redbox.grid(row=1, column=1, padx=1)\n",
    "        self.greenbox.grid(row=1, column=2, padx=1)\n",
    "        self.bluebox.grid(row=1, column=3, padx=1)\n",
    "        self.redlabel.grid(row=0, column=1, padx=1, sticky=\"S\")\n",
    "        self.greenlabel.grid(row=0, column=2, padx=1, sticky=\"S\")\n",
    "        self.bluelabel.grid(row=0, column=3, padx=1, sticky=\"S\")\n",
    "        \n",
    "        #potential entry box\n",
    "        #will need validation for negative entries, thus should use string entries\n",
    "        #convert afterward to extract numerical value\n",
    "        self.current_potential = StringVar()\n",
    "        self.current_potential.set(\"0\")\n",
    "        self.potentialbox = Entry(self.buttons_frame, textvariable=self.current_potential, width=10)\n",
    "        self.potentiallabel = Label(self.buttons_frame, text=\"Electric Potential\")\n",
    "        self.Vlabel = Label(self.buttons_frame, text=\" V\")\n",
    "        self.potentialbox.grid(row=1, column=4, padx=3, sticky=\"E\")\n",
    "        self.potentiallabel.grid(row=0, column=4, sticky=\"SE\", columnspan=2)\n",
    "        self.Vlabel.grid(row=1, column=5, sticky=\"W\")\n",
    "        \n",
    "        #validation bindings\n",
    "        self.redbox.bind(\"<FocusOut>\", lambda event, colour=\"Red\": self.validate_rgb(event, colour))\n",
    "        self.greenbox.bind(\"<FocusOut>\", lambda event, colour=\"Green\": self.validate_rgb(event, colour))\n",
    "        self.bluebox.bind(\"<FocusOut>\", lambda event, colour=\"Blue\": self.validate_rgb(event, colour))\n",
    "        self.potentialbox.bind(\"<FocusOut>\", self.validate_potential)\n",
    "        \n",
    "        \n",
    "        #drop-down menu for shape/draw type\n",
    "        shape_options = [\"Rectangle\",\"Oval\",\"Triangle\",\"Freehand Line\"]\n",
    "        self.selected_shape = StringVar()\n",
    "        self.shape_list = ttk.Combobox(self.buttons_frame, textvariable=self.selected_shape.get(), width=25, state=\"readonly\")\n",
    "        self.shape_list[\"values\"] = shape_options\n",
    "        self.shape_list.current(0)  # - set to index 0 of given options - i.e. shape_options[0]\n",
    "        self.shape_list.grid(row=3, column=0, padx=0, pady=20, sticky=\"WE\", columnspan=6, rowspan=3)\n",
    "        self.shape_list.bind(\"<FocusOut>\", lambda event: self.draw_preview())  # - change callback to update preview\n",
    "        \n",
    "        #checkbox to toggle boundary True/False\n",
    "        self.boundary_toggle = IntVar()\n",
    "        self.boundary_toggle.set(1)\n",
    "        self.bd_cond_box = Checkbutton(self.buttons_frame, variable=self.boundary_toggle, text=\"Set Boundary\")\n",
    "        self.bd_cond_box.grid(row=3, column=4, sticky=\"EW\", columnspan=6, rowspan=3)\n",
    "                \n",
    "        \n",
    "        \n",
    "        #event bindings\n",
    "        #create custom functions for focus leaving a widget\n",
    "        #this can include validation checks alongside\n",
    "        window.bind_all(\"<Button-1>\", self.click_focus)\n",
    "        window.bind_all(\"<Return>\", lambda event: self.window.focus_set())\n",
    "        self.shape_list.bind(\"<Leave>\", self.click_focus)\n",
    "        \n",
    "        \n",
    "        #canvas bindings\n",
    "        self.maincanvas.bind(\"<Motion>\", lambda event: self.draw_outline(event))\n",
    "        self.maincanvas.bind(\"<Leave>\", lambda event: self.maincanvas.delete(\"outline\"))\n",
    "        self.maincanvas.bind(\"<Button-1>\", lambda event: self.draw_shape(event))\n",
    "        self.maincanvas.bind(\"<B1-Motion>\", lambda event: self.draw_shape(event))\n",
    "        \n",
    "        #mini-canvas\n",
    "        #add entries for: rotation, height and width\n",
    "        #localised at similar frame location to self.mini_canvas\n",
    "        self.width = StringVar()\n",
    "        self.height = StringVar()\n",
    "        self.width.set(\"100\")\n",
    "        self.height.set(\"100\")\n",
    "        self.anglebox = Spinbox(self.canvas_frame, values=[_ for _ in range(0,360+1)], width=4, repeatinterval=10, command=self.validate_angle)\n",
    "        self.widthbox = Entry(self.canvas_frame, textvariable=self.width, width=5)\n",
    "        self.heightbox = Entry(self.canvas_frame, textvariable=self.height, width=5)\n",
    "        self.anglelabel = Label(self.canvas_frame, text=\"Rotation:\")\n",
    "        self.widthlabel = Label(self.canvas_frame, text=\"W:\")\n",
    "        self.heightlabel = Label(self.canvas_frame, text=\"H:\")\n",
    "        \n",
    "        self.anglebox.grid(row=6, column=2, padx=0, pady=0, sticky=\"NW\")\n",
    "        self.widthbox.grid(row=7, column=1, padx=0, pady=0, sticky=\"NE\")\n",
    "        self.heightbox.grid(row=7, column=4, padx=0, pady=0, sticky=\"NW\")\n",
    "        self.anglelabel.grid(row=6, column=1, padx=0, sticky=\"NW\")\n",
    "        self.widthlabel.grid(row=7, column=1, padx=0, sticky=\"NW\")\n",
    "        self.heightlabel.grid(row=7, column=3, padx=0, sticky=\"NW\")\n",
    "        \n",
    "        self.anglebox.bind(\"<FocusOut>\", self.validate_angle)\n",
    "        self.widthbox.bind(\"<FocusOut>\", self.validate_dimensions)\n",
    "        self.heightbox.bind(\"<FocusOut>\", self.validate_dimensions)\n",
    "        \n",
    "        \n",
    "        \n",
    "        #finish any other setup needed\n",
    "        #toggle axes on by default\n",
    "        if self.axes_toggle.get() == 1:\n",
    "            self.draw_axes()\n",
    "        self.draw_preview()\n",
    "        \n",
    "        #potential array setup\n",
    "        self.maskarray = np.zeros((self.canvas_width, self.canvas_height)).T\n",
    "        self.potentialarray = np.zeros((self.canvas_width, self.canvas_height)).T\n",
    "        \n",
    "        #output\n",
    "        #invert mask array so that 1 corresponds to background and 0 the boundaries (shapes)\n",
    "        #then can output to txt files\n",
    "        \n",
    "        return ###### __init__ end ######\n",
    "    \n",
    "    \n",
    "    def click_focus(self, event):\n",
    "        if event.type == EventType.ButtonPress:\n",
    "            #coordinates location only applies on button click\n",
    "            \n",
    "            #check if the click was anywhere outside the focused widget\n",
    "            #if outside, remove focus by switching to focus on the window itself\n",
    "            x,y = self.window.winfo_pointerxy()\n",
    "            try:\n",
    "                widget = self.window.winfo_containing(x,y)\n",
    "                if widget != self.window.focus_get():\n",
    "                    self.window.focus_set()\n",
    "            except:  # - needed because winfo_containing has KeyError issues with dropdown\n",
    "                pass\n",
    "                #print(self.shape_list[\"values\"][self.shape_list.current()])\n",
    "#         elif event.type == EventType.Leave:\n",
    "#             pass\n",
    "        return\n",
    "    \n",
    "    \n",
    "    def draw_axes(self):\n",
    "        if self.axes_toggle.get() == 0:\n",
    "            self.maincanvas.delete(\"axis\")\n",
    "            \n",
    "        elif self.axes_toggle.get() == 1:\n",
    "            #add axes onto the main canvas\n",
    "            #this will be performed whenever the canvas is cleared, if axes are still toggled on\n",
    "\n",
    "            #horizontal axis line at central y-value\n",
    "            lineopts = {\"dash\":(2,2), \"width\":1}\n",
    "    #                     , \"arrow\":BOTH, \"arrowshape\":(6,6,8)}\n",
    "            self.maincanvas.create_line(0, self.centre[1], self.canvas_width, self.centre[1], tags=\"axis\", **lineopts)\n",
    "            #vertical axis line at central x-value\n",
    "            self.maincanvas.create_line(self.centre[0], 0, self.centre[0], self.canvas_height, tags=\"axis\", **lineopts)\n",
    "        \n",
    "        return\n",
    "    \n",
    "    \n",
    "    def clear_canvas(self):\n",
    "        #remove everything, but maintain axes\n",
    "        #another way to specify ? - e.g. all tags except \"axis\" ?\n",
    "        \n",
    "        self.maincanvas.delete(\"all\")\n",
    "        if self.axes_toggle.get() == 1:\n",
    "            self.draw_axes()\n",
    "            \n",
    "        self.maskarray = np.zeros((self.canvas_width, self.canvas_height)).T\n",
    "        self.potentialarray = np.zeros((self.canvas_width, self.canvas_height)).T\n",
    "        return\n",
    "    \n",
    "    \n",
    "    def draw_preview(self):\n",
    "        #display preview of loaded shape on mini-canvas\n",
    "        \n",
    "        #preview canvas centre\n",
    "        previewcentre = self.prev_width//2, self.prev_height//2\n",
    "        \n",
    "        #get parameters for shape\n",
    "        shape = self.shape_list.get()\n",
    "        angle = int(self.anglebox.get())\n",
    "        height = self.prev_scale * int(self.heightbox.get())\n",
    "        width = self.prev_scale * int(self.widthbox.get())\n",
    "        drawcolour = self.get_colour(self.redbox.get(), self.greenbox.get(), self.bluebox.get())\n",
    "        draw_opts = {\"fill\":drawcolour, \"width\":0, \"tags\":\"preview\"}\n",
    "        \n",
    "        \n",
    "        self.mini_canvas.delete(\"preview\")\n",
    "        if shape == \"Freehand Line\":  # - no preview can be drawn for freehand\n",
    "            #also doesn't work as a boundary\n",
    "            #grey out the boundary toggle option\n",
    "            #re-enable when shape changes\n",
    "            self.bd_cond_box.config(state = DISABLED)\n",
    "            return\n",
    "        \n",
    "        #re-enable boundary conditions toggle if not freehand line drawing\n",
    "        self.bd_cond_box.config(state = ACTIVE)\n",
    "        \n",
    "        \n",
    "        #check the rest\n",
    "        #others drawn by coordinate bounding boxes - (x0,y0,x1,y1)\n",
    "        #### - NOTE: actually can't seem to rotate shapes unless they are polygons\n",
    "        #### - may need to manually define rectangles, ovals etc. so that they can be updated with canvas.coords()\n",
    "        #if non-zero angle, a rotation of these coords should be applied (complex numbers)\n",
    "        \n",
    "        #define bounding box (corners of shape to be drawn)\n",
    "        #assume centred at zero for now, so that they can be rotated as is\n",
    "        x_0,y_0 = previewcentre[0] - width//2, previewcentre[1] - height//2\n",
    "        x_1,y_1 = previewcentre[0] + width//2, previewcentre[1] + height//2\n",
    "        \n",
    "        \n",
    "        if shape == \"Oval\":\n",
    "            #add shape, centred but scaled down by the relative size of the mini-canvas\n",
    "            #have to approximate an oval by polygon\n",
    "            #so need points (roughly) around all the angles, and scaled properly by major/minor axis\n",
    "            major_ax = (x_1 - x_0)//2\n",
    "            minor_ax = (y_1 - y_0)//2\n",
    "            \n",
    "            coords = []\n",
    "#             for i in range(360):\n",
    "                #scale by projections of circle (2pi radians) onto axes\n",
    "                #and factor in major/minor lengths\n",
    "#             angle_step = (i/360) * 2*np.pi\n",
    "            angle_step = (np.arange(360) / 360) * 2*np.pi\n",
    "\n",
    "            x_oval = major_ax * np.cos(angle_step)\n",
    "            y_oval = minor_ax * np.sin(angle_step)\n",
    "\n",
    "#             coords.append(x_oval + previewcentre[0])\n",
    "#             coords.append(y_oval + previewcentre[1])\n",
    "            coords = list(np.c_[x_oval + previewcentre[0], y_oval + previewcentre[1]].ravel())\n",
    "                \n",
    "            coords = self.rotate_coords(coords, angle, centre=previewcentre)\n",
    "            \n",
    "        elif shape == \"Triangle\":\n",
    "            coords = [x_0,y_0, previewcentre[0],y_1, x_1,y_0]\n",
    "            coords = self.rotate_coords(coords, angle, centre=previewcentre)\n",
    "            \n",
    "        elif shape == \"Rectangle\":\n",
    "            #manually set 4 corner points as polygon\n",
    "            coords = [x_0,y_0, x_0,y_1, x_1,y_1, x_1,y_0]\n",
    "            coords = self.rotate_coords(coords, angle, centre=previewcentre)\n",
    "            \n",
    "            \n",
    "        #all shapes created as polygons to allow rotation\n",
    "        drawn_preview = self.mini_canvas.create_polygon(*coords, **draw_opts)\n",
    "        return\n",
    "    \n",
    "    \n",
    "    def draw_outline(self, event):\n",
    "        #preview outline of shape around mouse pointer\n",
    "        \n",
    "        #get parameters for shape\n",
    "        shape = self.shape_list.get()\n",
    "        angle = int(self.anglebox.get())\n",
    "        height = int(self.heightbox.get())\n",
    "        width = int(self.widthbox.get())\n",
    "        drawcolour = self.get_colour(self.redbox.get(), self.greenbox.get(), self.bluebox.get())\n",
    "        draw_opts = {\"outline\":drawcolour, \"fill\":\"\", \"width\":1, \"dash\":(2,2), \"tags\":\"outline\"}\n",
    "        \n",
    "        if shape == \"Freehand Line\":  # - no preview can be drawn for freehand\n",
    "            return\n",
    "        \n",
    "        #check the rest\n",
    "        #others drawn by coordinate bounding boxes - (x0,y0,x1,y1)\n",
    "        #if non-zero- angle, a rotation of these coords should be applied (complex numbers)\n",
    "        x_0, y_0 =  event.x - width//2, event.y - height//2\n",
    "        x_1, y_1 =  event.x + width//2, event.y + height//2\n",
    "        \n",
    "        \n",
    "        self.maincanvas.delete(\"outline\")\n",
    "        if shape == \"Oval\":\n",
    "            major_ax = (x_1 - x_0)//2\n",
    "            minor_ax = (y_1 - y_0)//2\n",
    "            \n",
    "            coords = []\n",
    "#             for i in range(360):\n",
    "                #scale by projections of circle (2pi radians) onto axes\n",
    "                #and factor in major/minor lengths\n",
    "#             angle_step = (i/360) * 2*np.pi\n",
    "            angle_step = (np.arange(360) / 360) * 2*np.pi\n",
    "\n",
    "            x_oval = major_ax * np.cos(angle_step)\n",
    "            y_oval = minor_ax * np.sin(angle_step)\n",
    "\n",
    "#             coords.append(x_oval + event.x)\n",
    "#             coords.append(y_oval + event.y)\n",
    "            coords = list(np.c_[x_oval + event.x, y_oval + event.y].ravel())\n",
    "                          \n",
    "            coords = self.rotate_coords(coords, angle, centre=[event.x,event.y])\n",
    "        elif shape == \"Triangle\":\n",
    "            coords = [x_0,y_0, event.x,y_1, x_1,y_0]\n",
    "            coords = self.rotate_coords(coords, angle, centre=[event.x,event.y])\n",
    "            \n",
    "        elif shape == \"Rectangle\":\n",
    "            #manually set 4 corner points as polygon\n",
    "            coords = [x_0,y_0, x_0,y_1, x_1,y_1, x_1,y_0]\n",
    "            coords = self.rotate_coords(coords, angle, centre=[event.x,event.y])\n",
    "            \n",
    "            \n",
    "        #all shapes created as polygons to allow rotation\n",
    "        drawn_preview = self.maincanvas.create_polygon(*coords, **draw_opts)\n",
    "        return\n",
    "    \n",
    "    \n",
    "    def draw_shape(self, event):\n",
    "        #add shape to canvas based on set values\n",
    "        #exactly like the outline, but with fill and no border\n",
    "        #add tags (???) - possibility of \"undo\" function?\n",
    "        \n",
    "        #get parameters for shape\n",
    "        shape = self.shape_list.get()\n",
    "        angle = int(self.anglebox.get())\n",
    "        height = int(self.heightbox.get())\n",
    "        width = int(self.widthbox.get())\n",
    "        drawcolour = self.get_colour(self.redbox.get(), self.greenbox.get(), self.bluebox.get())\n",
    "        draw_opts = {\"outline\":drawcolour, \"fill\":drawcolour, \"width\":1, \"tags\":\"shape\"}\n",
    "        \n",
    "        if shape == \"Freehand Line\":\n",
    "            #on initial click, need to store the clicked location\n",
    "            #next point along line will be drawn from here to the next <Motion> event\n",
    "            if event.type == EventType.ButtonPress:\n",
    "                self.prev_x, self.prev_y = event.x, event.y\n",
    "            self.draw_freehand(event)\n",
    "            return\n",
    "        \n",
    "        #check the rest\n",
    "        #others drawn by coordinate bounding boxes - (x0,y0,x1,y1)\n",
    "        #if non-zero- angle, a rotation of these coords should be applied (complex numbers)\n",
    "        x_0, y_0 =  event.x - width//2, event.y - height//2\n",
    "        x_1, y_1 =  event.x + width//2, event.y + height//2\n",
    "        \n",
    "        \n",
    "        if shape == \"Oval\":\n",
    "            major_ax = (x_1 - x_0)//2\n",
    "            minor_ax = (y_1 - y_0)//2\n",
    "            \n",
    "            coords = []\n",
    "#             for i in range(360):\n",
    "                #scale by projections of circle (2pi radians) onto axes\n",
    "                #and factor in major/minor lengths\n",
    "#             angle_step = (i/360) * 2*np.pi\n",
    "            angle_step = (np.arange(360) / 360) * 2*np.pi\n",
    "\n",
    "            x_oval = major_ax * np.cos(angle_step)\n",
    "            y_oval = minor_ax * np.sin(angle_step)\n",
    "\n",
    "#             coords.append(x_oval + event.x)\n",
    "#             coords.append(y_oval + event.y)\n",
    "            coords = list(np.c_[x_oval + event.x, y_oval + event.y].ravel())\n",
    "                          \n",
    "            coords = self.rotate_coords(coords, angle, centre=[event.x,event.y])\n",
    "        elif shape == \"Triangle\":\n",
    "            coords = [x_0,y_0, event.x,y_1, x_1,y_0]\n",
    "            coords = self.rotate_coords(coords, angle, centre=[event.x,event.y])\n",
    "            \n",
    "        elif shape == \"Rectangle\":\n",
    "            #manually set 4 corner points as polygon\n",
    "            coords = [x_0,y_0, x_0,y_1, x_1,y_1, x_1,y_0]\n",
    "            coords = self.rotate_coords(coords, angle, centre=[event.x,event.y])\n",
    "            \n",
    "            \n",
    "        #all shapes created as polygons to allow rotation\n",
    "        drawn_shape = self.maincanvas.create_polygon(*coords, **draw_opts)\n",
    "        \n",
    "        #put axes on top so they can be seen at all times\n",
    "        if self.axes_toggle.get() == 1:\n",
    "            self.maincanvas.tag_raise(\"axis\", \"all\")\n",
    "        \n",
    "        self.add_new_potential()\n",
    "        return\n",
    "    \n",
    "    \n",
    "    def draw_freehand(self, event):\n",
    "        #allow updating of freehand line as mouse is dragged on screen\n",
    "        drawcolour = self.get_colour(self.redbox.get(), self.greenbox.get(), self.bluebox.get())\n",
    "        opts = {\"fill\":drawcolour, \"width\":1, \"tags\":\"shape\"}\n",
    "        \n",
    "        self.maincanvas.create_line(self.prev_x, self.prev_y, event.x, event.y, **opts)\n",
    "        \n",
    "        #update this event's position to become the new prev point\n",
    "        self.prev_x, self.prev_y = event.x, event.y\n",
    "        \n",
    "        return\n",
    "    \n",
    "    \n",
    "    def validate_rgb(self, event, colour):\n",
    "        #check contents in r,g,b spinboxes upon focus leave\n",
    "        rgb_boxes = {\"Red\":self.redbox, \"Green\":self.greenbox, \"Blue\":self.bluebox}\n",
    "        box = rgb_boxes[colour]\n",
    "        \n",
    "        user_entry = box.get()\n",
    "        try:\n",
    "            user_entry = int(user_entry)\n",
    "        except:\n",
    "#             if isinstance(user_entry, str):\n",
    "            replacement = 0\n",
    "                \n",
    "        if isinstance(user_entry, int):\n",
    "            if user_entry > 255:\n",
    "                replacement = 255\n",
    "            elif user_entry < 0:\n",
    "                replacement = 0\n",
    "            else:\n",
    "                replacement = user_entry\n",
    "        \n",
    "        box.delete(0, END)\n",
    "        box.insert(0, replacement)\n",
    "        \n",
    "        self.draw_preview()\n",
    "        return\n",
    "    \n",
    "    \n",
    "    def validate_potential(self, event=None):\n",
    "        #ensure potential is either negative, zero, or positive\n",
    "        #and it can also be a float value\n",
    "        user_entry = self.potentialbox.get()\n",
    "        \n",
    "        #if not able to convert to float, the entry is invalid and is reset to zero\n",
    "        try:\n",
    "            user_entry = float(user_entry)\n",
    "        except:\n",
    "            replacement = 0\n",
    "            self.potentialbox.delete(0, END)\n",
    "            self.potentialbox.insert(0, replacement)\n",
    "        \n",
    "        self.draw_preview()\n",
    "        return\n",
    "    \n",
    "    \n",
    "    def validate_angle(self, event=None):\n",
    "        #ensure entry in anglebox is numeric, integer in range [0,360]\n",
    "        #number can be out of that range, then convert into that range (e.g. 720 === 360)\n",
    "        user_entry = self.anglebox.get()\n",
    "        \n",
    "        try:\n",
    "            user_entry = int(user_entry)\n",
    "            replacement = user_entry % 360  \n",
    "            \n",
    "        except:\n",
    "            replacement = 0\n",
    "        \n",
    "        self.anglebox.delete(0, END)\n",
    "        self.anglebox.insert(0, replacement)\n",
    "        \n",
    "        self.draw_preview()        \n",
    "        return\n",
    "    \n",
    "    \n",
    "    def validate_dimensions(self, event):\n",
    "        #for width and height setting\n",
    "        #should be positive integers\n",
    "        #possibly set an upper limit to prevent lag when drawing\n",
    "        #i.e. hypotenuse of canvas\n",
    "        box = event.widget        \n",
    "        user_entry = box.get()\n",
    "        try:\n",
    "            user_entry = int(user_entry)\n",
    "            if user_entry < 0:\n",
    "                user_entry = abs(user_entry)\n",
    "                \n",
    "            replacement = user_entry\n",
    "        except:\n",
    "            replacement = \"100\"  # - default value\n",
    "        \n",
    "        box.delete(0, END)\n",
    "        box.insert(0, replacement)\n",
    "        \n",
    "        self.draw_preview()\n",
    "        return\n",
    "    \n",
    "    \n",
    "    def rotate_coords(self, coords, angle, centre=None):\n",
    "        #apply simple rotation in complex plane\n",
    "        #retrieve new coords from rotated complex value\n",
    "        if centre is None:\n",
    "            centre = [0,0]\n",
    "        \n",
    "        #apply e^ix rotation in complex plane, with angular fraction included\n",
    "        #remove offset from coords - to rotate around origin\n",
    "        #add back afterwards\n",
    "        x_complex = np.array(coords[::2]) * complex(1,0)  - centre[0]\n",
    "        y_complex = np.array(coords[1::2]) * complex(0,1)  - (centre[1] * 1j)\n",
    "        \n",
    "        rotated_points = (x_complex + y_complex) * np.exp(1j * (angle/360) * 2*np.pi)\n",
    "        x_new, y_new = rotated_points.real + centre[0], rotated_points.imag + centre[1]\n",
    "        \n",
    "        new_coords = np.c_[x_new, y_new].ravel()  # - recombine the np arrays to alternating x,y pairs\n",
    "        \n",
    "        return new_coords\n",
    "    \n",
    "    \n",
    "    def get_colour(self, r,g,b):\n",
    "        #supply rgb values and get a hex colour code in return\n",
    "        r,g,b = [int(colour) for colour in (r,g,b)]\n",
    "        return \"#%02x%02x%02x\" % (r,g,b)\n",
    "    \n",
    "    \n",
    "    def add_new_potential(self):\n",
    "        #create array for a new shape, then add it to total array\n",
    "        #NOTE: not sure how to make work with freehand line, as they have no coords() to access\n",
    "        potential = float(self.potentialbox.get())\n",
    "        \n",
    "        shape_bounds = self.maincanvas.coords(\"current\")\n",
    "        if not shape_bounds:\n",
    "            return            \n",
    "        shape_bounds = list(zip(shape_bounds[::2], shape_bounds[1::2]))  # - specific (x,y) tuple format needed for Path\n",
    "\n",
    "        test_grid = np.vstack(np.indices((self.canvas_width, self.canvas_height)).T)  # - specific Nx2 format needed for Path\n",
    "        shape_mask = Path(shape_bounds).contains_points(test_grid, radius=1).reshape(self.canvas_height, self.canvas_width)\n",
    "        \n",
    "        \n",
    "        #add section to sum new array to main mask array\n",
    "        #meanwhile, generate potential array by multiplying individual mask, and add this to main potential array\n",
    "        #checks needed to remove overlaps\n",
    "        shape_potential = potential * shape_mask  # - as shape_mask is Boolean, multiplying 1s to give potential; zero elsewhere\n",
    "        \n",
    "        #summed arrays to update\n",
    "        #manually reset the invalid values (i.e. overlaps - where mask > 1)\n",
    "        #also for potentials, check if overlaps' total value is greater than current potential, overwrite with this value\n",
    "        self.maskarray += shape_mask\n",
    "        \n",
    "        #check if setting to boundary (1) or background (0)\n",
    "        #then reset mask and put potential back to zero (background)\n",
    "        if self.boundary_toggle.get() == 0:\n",
    "            self.maskarray[self.maskarray > 1] = 0\n",
    "            self.potentialarray[shape_mask] = 0\n",
    "        else:\n",
    "            #set points to \n",
    "            self.maskarray[self.maskarray > 1] = 1\n",
    "\n",
    "            #add the new potential\n",
    "            #check if the added points came to a total sum not equal to the current potential - then values should be reset manually\n",
    "            self.potentialarray += shape_potential\n",
    "\n",
    "            #check if setting to boundary (1) or background (0)\n",
    "    #         if self.boundary_toggle.get() == 0:\n",
    "            self.potentialarray[(shape_mask == True) & (self.potentialarray != potential)] = potential\n",
    "        \n",
    "        \n",
    "        return\n",
    "    \n",
    "    \n",
    "    def output_arrays(self):\n",
    "        #once canvas finished, can save the arrays to txt files for processing in electric field solver\n",
    "        #mask array is output with background at 1 and boundaries at 0\n",
    "        #by convention of the rest of the program - editable points are \"True\" (1)\n",
    "        np.savetxt(\"maskarray.txt\", 1 - self.maskarray, delimiter=\" \", fmt=\"%f\")\n",
    "        np.savetxt(\"potentialarray.txt\", self.potentialarray, delimiter=\" \", fmt = \"%f\")\n",
    "        \n",
    "\n",
    "        # save postscipt image\n",
    "#         filename = \"tk_canvas\"\n",
    "#         self.maincanvas.postscript(file = filename + '.eps') \n",
    "#         # use PIL to convert to PNG\n",
    "#         img = Image.open(filename + '.eps') \n",
    "#         img.save(filename + '.png', 'png') \n",
    "        \n",
    "        #would add callback (either to this function or from this function) to run processing for rest of solver\n",
    "        #i.e. the \"control system\", which begins from a button on canvas and outputs into the GUI\n",
    "        \n",
    "        return"
   ]
  },
  {
   "cell_type": "code",
   "execution_count": 574,
   "id": "590a0211",
   "metadata": {},
   "outputs": [],
   "source": [
    "#next change:\n",
    "#have the array evaluation happen after releasing mouse click\n",
    "#would require all \"new\" shapes (new additions to a list (?) since last drawing) (add as tag?)\n",
    "#then compute the coords"
   ]
  },
  {
   "cell_type": "code",
   "execution_count": 575,
   "id": "16965b08",
   "metadata": {
    "scrolled": false
   },
   "outputs": [],
   "source": [
    "#use the class to define the window, then run as shown below\n",
    "root = Tk()\n",
    "g = GUI(root, 600, 500)\n",
    "root.mainloop()"
   ]
  },
  {
   "cell_type": "code",
   "execution_count": 576,
   "id": "5ef55344",
   "metadata": {},
   "outputs": [
    {
     "data": {
      "text/plain": [
       "array([[0., 0., 0., ..., 0., 0., 0.],\n",
       "       [0., 0., 0., ..., 0., 0., 0.],\n",
       "       [0., 0., 0., ..., 0., 0., 0.],\n",
       "       ...,\n",
       "       [0., 0., 0., ..., 0., 0., 0.],\n",
       "       [0., 0., 0., ..., 0., 0., 0.],\n",
       "       [0., 0., 0., ..., 0., 0., 0.]])"
      ]
     },
     "execution_count": 576,
     "metadata": {},
     "output_type": "execute_result"
    }
   ],
   "source": [
    "g.maskarray"
   ]
  },
  {
   "cell_type": "code",
   "execution_count": 577,
   "id": "9663813b",
   "metadata": {},
   "outputs": [
    {
     "data": {
      "image/png": "[encoded data removed]",
      "text/plain": [
       "<Figure size 432x288 with 2 Axes>"
      ]
     },
     "metadata": {
      "needs_background": "light"
     },
     "output_type": "display_data"
    }
   ],
   "source": [
    "plt.imshow(1 - g.maskarray)\n",
    "plt.colorbar()\n",
    "plt.show()"
   ]
  },
  {
   "cell_type": "code",
   "execution_count": 578,
   "id": "83896b43",
   "metadata": {},
   "outputs": [
    {
     "data": {
      "text/plain": [
       "array([[0., 0., 0., ..., 0., 0., 0.],\n",
       "       [0., 0., 0., ..., 0., 0., 0.],\n",
       "       [0., 0., 0., ..., 0., 0., 0.],\n",
       "       ...,\n",
       "       [0., 0., 0., ..., 0., 0., 0.],\n",
       "       [0., 0., 0., ..., 0., 0., 0.],\n",
       "       [0., 0., 0., ..., 0., 0., 0.]])"
      ]
     },
     "execution_count": 578,
     "metadata": {},
     "output_type": "execute_result"
    }
   ],
   "source": [
    "g.potentialarray"
   ]
  },
  {
   "cell_type": "code",
   "execution_count": 579,
   "id": "e7d90d42",
   "metadata": {},
   "outputs": [
    {
     "data": {
      "image/png": "[encoded data removed]",
      "text/plain": [
       "<Figure size 432x288 with 2 Axes>"
      ]
     },
     "metadata": {
      "needs_background": "light"
     },
     "output_type": "display_data"
    }
   ],
   "source": [
    "plt.imshow(g.potentialarray)\n",
    "plt.colorbar()\n",
    "plt.show()"
   ]
  },
  {
   "cell_type": "code",
   "execution_count": 179,
   "id": "5f822c06",
   "metadata": {},
   "outputs": [
    {
     "data": {
      "text/plain": [
       "array([0., 0., 0., ..., 0., 0., 0.])"
      ]
     },
     "execution_count": 179,
     "metadata": {},
     "output_type": "execute_result"
    }
   ],
   "source": [
    "g.potentialarray[g.maskarray == True]"
   ]
  },
  {
   "cell_type": "code",
   "execution_count": 124,
   "id": "579d5fa8",
   "metadata": {},
   "outputs": [
    {
     "data": {
      "text/plain": [
       "(array([[1., 1., 1., 1., 1., 1., 1., 1., 1., 1.],\n",
       "        [1., 1., 1., 1., 1., 1., 1., 1., 1., 1.],\n",
       "        [1., 1., 1., 1., 1., 1., 1., 1., 1., 1.],\n",
       "        [1., 1., 1., 1., 1., 1., 1., 1., 1., 1.],\n",
       "        [1., 1., 1., 1., 1., 1., 1., 1., 1., 1.],\n",
       "        [1., 1., 1., 1., 1., 1., 1., 1., 1., 1.],\n",
       "        [1., 1., 1., 1., 1., 1., 1., 1., 1., 1.],\n",
       "        [1., 1., 1., 1., 1., 1., 1., 1., 1., 1.],\n",
       "        [1., 1., 1., 1., 1., 1., 1., 1., 1., 1.],\n",
       "        [1., 1., 1., 1., 1., 1., 1., 1., 1., 1.]]),\n",
       " array([[0., 0., 0., 0., 0., 0., 0., 0., 0., 0.],\n",
       "        [0., 0., 0., 0., 0., 0., 0., 0., 0., 0.],\n",
       "        [0., 0., 0., 0., 0., 0., 0., 0., 0., 0.],\n",
       "        [0., 0., 0., 0., 0., 0., 0., 0., 0., 0.],\n",
       "        [0., 0., 0., 0., 0., 0., 0., 0., 0., 0.],\n",
       "        [0., 0., 0., 0., 0., 0., 0., 0., 0., 0.],\n",
       "        [0., 0., 0., 0., 0., 0., 0., 0., 0., 0.],\n",
       "        [0., 0., 0., 0., 0., 0., 0., 0., 0., 0.],\n",
       "        [0., 0., 0., 0., 0., 0., 0., 0., 0., 0.],\n",
       "        [0., 0., 0., 0., 0., 0., 0., 0., 0., 0.]]),\n",
       " array([[0., 0., 0., 0., 0., 0., 0., 0., 0., 0.],\n",
       "        [0., 0., 0., 0., 0., 0., 0., 0., 0., 0.],\n",
       "        [0., 0., 0., 0., 0., 0., 0., 0., 0., 0.],\n",
       "        [0., 0., 0., 0., 0., 0., 0., 0., 0., 0.],\n",
       "        [0., 0., 0., 0., 0., 0., 0., 0., 0., 0.],\n",
       "        [1., 1., 1., 1., 1., 1., 1., 1., 1., 1.],\n",
       "        [1., 1., 1., 1., 1., 1., 1., 1., 1., 1.],\n",
       "        [1., 1., 1., 1., 1., 1., 1., 1., 1., 1.],\n",
       "        [1., 1., 1., 1., 1., 1., 1., 1., 1., 1.],\n",
       "        [1., 1., 1., 1., 1., 1., 1., 1., 1., 1.]]))"
      ]
     },
     "execution_count": 124,
     "metadata": {},
     "output_type": "execute_result"
    }
   ],
   "source": [
    "a = np.ones((10,10))\n",
    "b = np.zeros((10,10))\n",
    "c = b.copy()\n",
    "c[5:,:] = 1\n",
    "a,b,c"
   ]
  },
  {
   "cell_type": "code",
   "execution_count": 135,
   "id": "1de2452f",
   "metadata": {},
   "outputs": [
    {
     "data": {
      "text/plain": [
       "(array([5, 5, 5, 5, 5, 5, 5, 5, 5, 5, 6, 6, 6, 6, 6, 6, 6, 6, 6, 6, 7, 7,\n",
       "        7, 7, 7, 7, 7, 7, 7, 7, 8, 8, 8, 8, 8, 8, 8, 8, 8, 8, 9, 9, 9, 9,\n",
       "        9, 9, 9, 9, 9, 9], dtype=int64),\n",
       " array([0, 1, 2, 3, 4, 5, 6, 7, 8, 9, 0, 1, 2, 3, 4, 5, 6, 7, 8, 9, 0, 1,\n",
       "        2, 3, 4, 5, 6, 7, 8, 9, 0, 1, 2, 3, 4, 5, 6, 7, 8, 9, 0, 1, 2, 3,\n",
       "        4, 5, 6, 7, 8, 9], dtype=int64))"
      ]
     },
     "execution_count": 135,
     "metadata": {},
     "output_type": "execute_result"
    }
   ],
   "source": [
    "np.where((a == True) & (c == True))"
   ]
  },
  {
   "cell_type": "code",
   "execution_count": 4,
   "id": "ae73b142",
   "metadata": {},
   "outputs": [],
   "source": [
    "def get_colour(r,g,b):\n",
    "    #supply rgb values and get a hex colour code in return\n",
    "    return \"#%02x%02x%02x\" % (r,g,b)"
   ]
  },
  {
   "cell_type": "code",
   "execution_count": 5,
   "id": "65f38d55",
   "metadata": {},
   "outputs": [
    {
     "data": {
      "text/plain": [
       "'#00ffff'"
      ]
     },
     "execution_count": 5,
     "metadata": {},
     "output_type": "execute_result"
    }
   ],
   "source": [
    "get_colour(0,255,255)"
   ]
  },
  {
   "cell_type": "code",
   "execution_count": 208,
   "id": "8c0614f4",
   "metadata": {},
   "outputs": [
    {
     "data": {
      "text/plain": [
       "(0, 45)"
      ]
     },
     "execution_count": 208,
     "metadata": {},
     "output_type": "execute_result"
    }
   ],
   "source": [
    "abs(int(\"45\"))//360, int(\"45\")%360"
   ]
  },
  {
   "cell_type": "code",
   "execution_count": 16,
   "id": "d131070d",
   "metadata": {},
   "outputs": [
    {
     "data": {
      "text/plain": [
       "5j"
      ]
     },
     "execution_count": 16,
     "metadata": {},
     "output_type": "execute_result"
    }
   ],
   "source": [
    "complex(5,0) * complex(0,1)"
   ]
  },
  {
   "cell_type": "code",
   "execution_count": 28,
   "id": "7fd25ecd",
   "metadata": {},
   "outputs": [
    {
     "data": {
      "text/plain": [
       "(3.061616997868383e-16+5j)"
      ]
     },
     "execution_count": 28,
     "metadata": {},
     "output_type": "execute_result"
    }
   ],
   "source": [
    "(complex(5,0) * np.exp(-1j * -np.pi/2))"
   ]
  },
  {
   "cell_type": "code",
   "execution_count": 298,
   "id": "6a5b7e01",
   "metadata": {},
   "outputs": [
    {
     "data": {
      "image/png": "[encoded data removed]",
      "text/plain": [
       "<Figure size 432x288 with 1 Axes>"
      ]
     },
     "metadata": {
      "needs_background": "light"
     },
     "output_type": "display_data"
    }
   ],
   "source": [
    "x,y = 5,0\n",
    "plt.plot(0,0, \"ko\")\n",
    "plt.ylim(-10,10)\n",
    "plt.xlim(-10,10)\n",
    "plt.plot(x,y, \"bo\")\n",
    "\n",
    "angle = 30\n",
    "rot_point = complex(x,y) * np.exp(-1j * (angle/360) * 2*np.pi)\n",
    "x_c, y_c = rot_point.real, rot_point.imag\n",
    "plt.plot(x_c,y_c, \"ro\")\n",
    "# plt.plot(*rotate_coords([x,y], angle, centre=[0,0]), \"ro\")\n",
    "plt.show()"
   ]
  },
  {
   "cell_type": "code",
   "execution_count": 330,
   "id": "8ec2e585",
   "metadata": {},
   "outputs": [],
   "source": [
    " def rotate_coords(coords, angle, centre=None):\n",
    "        #apply simple rotation in complex plane\n",
    "        #retrieve new coords from rotated complex value\n",
    "        if centre is None:\n",
    "            centre = [0,0]\n",
    "        \n",
    "        #apply e^ix rotation in complex plane, with angular fraction included\n",
    "        x_complex = np.array(coords[::2]) * complex(1,0)  - centre[0]\n",
    "        y_complex = np.array(coords[1::2]) * complex(0,1) - (centre[1] * 1j)\n",
    "        \n",
    "        rotated_points = (x_complex + y_complex) * np.exp(-1j * (angle/360) * 2*np.pi)\n",
    "        x_new, y_new = rotated_points.real + centre[0], rotated_points.imag + centre[1]\n",
    "        \n",
    "        new_coords = np.c_[x_new, y_new].ravel()  # - recombine the np arrays to alternating x,y pairs\n",
    "        \n",
    "        return new_coords"
   ]
  },
  {
   "cell_type": "code",
   "execution_count": 331,
   "id": "47731e22",
   "metadata": {},
   "outputs": [
    {
     "data": {
      "text/plain": [
       "array([-20.34600203, -19.64790577,  20.34600203,  19.64790577])"
      ]
     },
     "execution_count": 331,
     "metadata": {},
     "output_type": "execute_result"
    }
   ],
   "source": [
    "rotate_coords([-20,-20,20,20], 1)"
   ]
  },
  {
   "cell_type": "code",
   "execution_count": 336,
   "id": "d35c9549",
   "metadata": {},
   "outputs": [
    {
     "data": {
      "text/plain": [
       "array([59.74049848, 60.26407067, 60.26407067, 90.25950152, 90.25950152,\n",
       "       89.73592933, 89.73592933, 59.74049848])"
      ]
     },
     "execution_count": 336,
     "metadata": {},
     "output_type": "execute_result"
    }
   ],
   "source": [
    "rotate_coords([60,60, 60,90, 90,90, 90,60], 1, centre=[75,75])"
   ]
  },
  {
   "cell_type": "code",
   "execution_count": 85,
   "id": "dbbc23bb",
   "metadata": {},
   "outputs": [
    {
     "data": {
      "text/plain": [
       "array([5.+1.2246468e-15j])"
      ]
     },
     "execution_count": 85,
     "metadata": {},
     "output_type": "execute_result"
    }
   ],
   "source": [
    "np.array([complex(5,0)]) * np.exp(-1j * 2*np.pi)"
   ]
  },
  {
   "cell_type": "code",
   "execution_count": 103,
   "id": "bbc98606",
   "metadata": {},
   "outputs": [
    {
     "data": {
      "text/plain": [
       "array([0.+1.j, 0.+2.j, 0.+3.j])"
      ]
     },
     "execution_count": 103,
     "metadata": {},
     "output_type": "execute_result"
    }
   ],
   "source": [
    "np.array([1,2,3]) * complex(0,1)"
   ]
  },
  {
   "cell_type": "code",
   "execution_count": 18,
   "id": "5bb773ef",
   "metadata": {},
   "outputs": [],
   "source": [
    "x_c = np.array([-20, -20, 20, 20])[::2] * complex(1,0)\n",
    "y_c = np.array([-20, -20, 20, 20])[1::2] * complex(0,1)"
   ]
  },
  {
   "cell_type": "code",
   "execution_count": 19,
   "id": "e28d4bec",
   "metadata": {},
   "outputs": [
    {
     "data": {
      "text/plain": [
       "array([-20.+20.j,  20.-20.j])"
      ]
     },
     "execution_count": 19,
     "metadata": {},
     "output_type": "execute_result"
    }
   ],
   "source": [
    "newpts = ((x_c + y_c) * np.exp(-1j * np.pi/2))\n",
    "newpts"
   ]
  },
  {
   "cell_type": "code",
   "execution_count": 20,
   "id": "ed1f9450",
   "metadata": {},
   "outputs": [
    {
     "data": {
      "text/plain": [
       "array([-20.,  20.,  20., -20.])"
      ]
     },
     "execution_count": 20,
     "metadata": {},
     "output_type": "execute_result"
    }
   ],
   "source": [
    "np.r_[newpts.real, newpts.imag]"
   ]
  },
  {
   "cell_type": "code",
   "execution_count": 34,
   "id": "0054fcc9",
   "metadata": {},
   "outputs": [
    {
     "data": {
      "text/plain": [
       "[-20.0, 20.0, 20.0, -20.0]"
      ]
     },
     "execution_count": 34,
     "metadata": {},
     "output_type": "execute_result"
    }
   ],
   "source": [
    "*_, = np.r_[newpts.real, newpts.imag]\n",
    "_"
   ]
  },
  {
   "cell_type": "code",
   "execution_count": 237,
   "id": "67897e79",
   "metadata": {},
   "outputs": [],
   "source": [
    "maskarray = np.loadtxt(\"maskarray.txt\", delimiter=\" \")\n",
    "potentialarray = np.loadtxt(\"potentialarray.txt\", delimiter=\" \")"
   ]
  },
  {
   "cell_type": "code",
   "execution_count": 238,
   "id": "8d5929b3",
   "metadata": {},
   "outputs": [
    {
     "data": {
      "text/plain": [
       "(540, 850)"
      ]
     },
     "execution_count": 238,
     "metadata": {},
     "output_type": "execute_result"
    }
   ],
   "source": [
    "maskarray.shape"
   ]
  },
  {
   "cell_type": "code",
   "execution_count": 239,
   "id": "0f28428f",
   "metadata": {},
   "outputs": [
    {
     "data": {
      "image/png": "[encoded data removed]",
      "text/plain": [
       "<Figure size 864x864 with 1 Axes>"
      ]
     },
     "metadata": {
      "needs_background": "light"
     },
     "output_type": "display_data"
    }
   ],
   "source": [
    "plt.figure(figsize=(12,12))\n",
    "plt.imshow(maskarray)\n",
    "plt.show()"
   ]
  }
 ],
 "metadata": {
  "kernelspec": {
   "display_name": "Python 3",
   "language": "python",
   "name": "python3"
  },
  "language_info": {
   "codemirror_mode": {
    "name": "ipython",
    "version": 3
   },
   "file_extension": ".py",
   "mimetype": "text/x-python",
   "name": "python",
   "nbconvert_exporter": "python",
   "pygments_lexer": "ipython3",
   "version": "3.8.8"
  }
 },
 "nbformat": 4,
 "nbformat_minor": 5
}
